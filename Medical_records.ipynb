{
  "nbformat": 4,
  "nbformat_minor": 0,
  "metadata": {
    "colab": {
      "provenance": []
    },
    "kernelspec": {
      "name": "python3",
      "display_name": "Python 3"
    },
    "language_info": {
      "name": "python"
    }
  },
  "cells": [
    {
      "cell_type": "code",
      "source": [
        "# Install required libraries\n",
        "!pip install deepgram-sdk==2.12.0 openai python-docx\n",
        "\n",
        "# Import necessary libraries\n",
        "import os\n",
        "import json\n",
        "from deepgram import Deepgram\n",
        "import openai\n",
        "from openai import OpenAI\n",
        "from docx import Document\n",
        "from datetime import datetime\n",
        "from google.colab import files"
      ],
      "metadata": {
        "colab": {
          "base_uri": "https://localhost:8080/"
        },
        "id": "xEAIiEtrwyum",
        "outputId": "da3bbeac-6d0d-43ed-f0cd-964c057dc6b1"
      },
      "execution_count": null,
      "outputs": [
        {
          "output_type": "stream",
          "name": "stdout",
          "text": [
            "Collecting deepgram-sdk\n",
            "  Downloading deepgram_sdk-3.10.1-py3-none-any.whl.metadata (14 kB)\n",
            "Requirement already satisfied: openai in /usr/local/lib/python3.11/dist-packages (1.66.3)\n",
            "Collecting python-docx\n",
            "  Downloading python_docx-1.1.2-py3-none-any.whl.metadata (2.0 kB)\n",
            "Requirement already satisfied: httpx>=0.25.2 in /usr/local/lib/python3.11/dist-packages (from deepgram-sdk) (0.28.1)\n",
            "Requirement already satisfied: websockets>=12.0 in /usr/local/lib/python3.11/dist-packages (from deepgram-sdk) (14.2)\n",
            "Collecting dataclasses-json>=0.6.3 (from deepgram-sdk)\n",
            "  Downloading dataclasses_json-0.6.7-py3-none-any.whl.metadata (25 kB)\n",
            "Requirement already satisfied: typing_extensions>=4.9.0 in /usr/local/lib/python3.11/dist-packages (from deepgram-sdk) (4.12.2)\n",
            "Requirement already satisfied: aiohttp>=3.9.1 in /usr/local/lib/python3.11/dist-packages (from deepgram-sdk) (3.11.14)\n",
            "Collecting aiofiles>=23.2.1 (from deepgram-sdk)\n",
            "  Downloading aiofiles-24.1.0-py3-none-any.whl.metadata (10 kB)\n",
            "Collecting aenum>=3.1.0 (from deepgram-sdk)\n",
            "  Downloading aenum-3.1.15-py3-none-any.whl.metadata (3.7 kB)\n",
            "Collecting deprecation>=2.1.0 (from deepgram-sdk)\n",
            "  Downloading deprecation-2.1.0-py2.py3-none-any.whl.metadata (4.6 kB)\n",
            "Requirement already satisfied: anyio<5,>=3.5.0 in /usr/local/lib/python3.11/dist-packages (from openai) (4.9.0)\n",
            "Requirement already satisfied: distro<2,>=1.7.0 in /usr/local/lib/python3.11/dist-packages (from openai) (1.9.0)\n",
            "Requirement already satisfied: jiter<1,>=0.4.0 in /usr/local/lib/python3.11/dist-packages (from openai) (0.9.0)\n",
            "Requirement already satisfied: pydantic<3,>=1.9.0 in /usr/local/lib/python3.11/dist-packages (from openai) (2.10.6)\n",
            "Requirement already satisfied: sniffio in /usr/local/lib/python3.11/dist-packages (from openai) (1.3.1)\n",
            "Requirement already satisfied: tqdm>4 in /usr/local/lib/python3.11/dist-packages (from openai) (4.67.1)\n",
            "Requirement already satisfied: lxml>=3.1.0 in /usr/local/lib/python3.11/dist-packages (from python-docx) (5.3.1)\n",
            "Requirement already satisfied: aiohappyeyeballs>=2.3.0 in /usr/local/lib/python3.11/dist-packages (from aiohttp>=3.9.1->deepgram-sdk) (2.6.1)\n",
            "Requirement already satisfied: aiosignal>=1.1.2 in /usr/local/lib/python3.11/dist-packages (from aiohttp>=3.9.1->deepgram-sdk) (1.3.2)\n",
            "Requirement already satisfied: attrs>=17.3.0 in /usr/local/lib/python3.11/dist-packages (from aiohttp>=3.9.1->deepgram-sdk) (25.3.0)\n",
            "Requirement already satisfied: frozenlist>=1.1.1 in /usr/local/lib/python3.11/dist-packages (from aiohttp>=3.9.1->deepgram-sdk) (1.5.0)\n",
            "Requirement already satisfied: multidict<7.0,>=4.5 in /usr/local/lib/python3.11/dist-packages (from aiohttp>=3.9.1->deepgram-sdk) (6.2.0)\n",
            "Requirement already satisfied: propcache>=0.2.0 in /usr/local/lib/python3.11/dist-packages (from aiohttp>=3.9.1->deepgram-sdk) (0.3.0)\n",
            "Requirement already satisfied: yarl<2.0,>=1.17.0 in /usr/local/lib/python3.11/dist-packages (from aiohttp>=3.9.1->deepgram-sdk) (1.18.3)\n",
            "Requirement already satisfied: idna>=2.8 in /usr/local/lib/python3.11/dist-packages (from anyio<5,>=3.5.0->openai) (3.10)\n",
            "Collecting marshmallow<4.0.0,>=3.18.0 (from dataclasses-json>=0.6.3->deepgram-sdk)\n",
            "  Downloading marshmallow-3.26.1-py3-none-any.whl.metadata (7.3 kB)\n",
            "Collecting typing-inspect<1,>=0.4.0 (from dataclasses-json>=0.6.3->deepgram-sdk)\n",
            "  Downloading typing_inspect-0.9.0-py3-none-any.whl.metadata (1.5 kB)\n",
            "Requirement already satisfied: packaging in /usr/local/lib/python3.11/dist-packages (from deprecation>=2.1.0->deepgram-sdk) (24.2)\n",
            "Requirement already satisfied: certifi in /usr/local/lib/python3.11/dist-packages (from httpx>=0.25.2->deepgram-sdk) (2025.1.31)\n",
            "Requirement already satisfied: httpcore==1.* in /usr/local/lib/python3.11/dist-packages (from httpx>=0.25.2->deepgram-sdk) (1.0.7)\n",
            "Requirement already satisfied: h11<0.15,>=0.13 in /usr/local/lib/python3.11/dist-packages (from httpcore==1.*->httpx>=0.25.2->deepgram-sdk) (0.14.0)\n",
            "Requirement already satisfied: annotated-types>=0.6.0 in /usr/local/lib/python3.11/dist-packages (from pydantic<3,>=1.9.0->openai) (0.7.0)\n",
            "Requirement already satisfied: pydantic-core==2.27.2 in /usr/local/lib/python3.11/dist-packages (from pydantic<3,>=1.9.0->openai) (2.27.2)\n",
            "Collecting mypy-extensions>=0.3.0 (from typing-inspect<1,>=0.4.0->dataclasses-json>=0.6.3->deepgram-sdk)\n",
            "  Downloading mypy_extensions-1.0.0-py3-none-any.whl.metadata (1.1 kB)\n",
            "Downloading deepgram_sdk-3.10.1-py3-none-any.whl (149 kB)\n",
            "\u001b[2K   \u001b[90m━━━━━━━━━━━━━━━━━━━━━━━━━━━━━━━━━━━━━━━━\u001b[0m \u001b[32m149.2/149.2 kB\u001b[0m \u001b[31m3.8 MB/s\u001b[0m eta \u001b[36m0:00:00\u001b[0m\n",
            "\u001b[?25hDownloading python_docx-1.1.2-py3-none-any.whl (244 kB)\n",
            "\u001b[2K   \u001b[90m━━━━━━━━━━━━━━━━━━━━━━━━━━━━━━━━━━━━━━━━\u001b[0m \u001b[32m244.3/244.3 kB\u001b[0m \u001b[31m16.3 MB/s\u001b[0m eta \u001b[36m0:00:00\u001b[0m\n",
            "\u001b[?25hDownloading aenum-3.1.15-py3-none-any.whl (137 kB)\n",
            "\u001b[2K   \u001b[90m━━━━━━━━━━━━━━━━━━━━━━━━━━━━━━━━━━━━━━━━\u001b[0m \u001b[32m137.6/137.6 kB\u001b[0m \u001b[31m10.0 MB/s\u001b[0m eta \u001b[36m0:00:00\u001b[0m\n",
            "\u001b[?25hDownloading aiofiles-24.1.0-py3-none-any.whl (15 kB)\n",
            "Downloading dataclasses_json-0.6.7-py3-none-any.whl (28 kB)\n",
            "Downloading deprecation-2.1.0-py2.py3-none-any.whl (11 kB)\n",
            "Downloading marshmallow-3.26.1-py3-none-any.whl (50 kB)\n",
            "\u001b[2K   \u001b[90m━━━━━━━━━━━━━━━━━━━━━━━━━━━━━━━━━━━━━━━━\u001b[0m \u001b[32m50.9/50.9 kB\u001b[0m \u001b[31m3.7 MB/s\u001b[0m eta \u001b[36m0:00:00\u001b[0m\n",
            "\u001b[?25hDownloading typing_inspect-0.9.0-py3-none-any.whl (8.8 kB)\n",
            "Downloading mypy_extensions-1.0.0-py3-none-any.whl (4.7 kB)\n",
            "Installing collected packages: aenum, python-docx, mypy-extensions, marshmallow, deprecation, aiofiles, typing-inspect, dataclasses-json, deepgram-sdk\n",
            "Successfully installed aenum-3.1.15 aiofiles-24.1.0 dataclasses-json-0.6.7 deepgram-sdk-3.10.1 deprecation-2.1.0 marshmallow-3.26.1 mypy-extensions-1.0.0 python-docx-1.1.2 typing-inspect-0.9.0\n"
          ]
        }
      ]
    },
    {
      "cell_type": "code",
      "source": [
        "# 1. Upload your audio file\n",
        "print(\"Please upload your audio file:\")\n",
        "uploaded = files.upload()\n",
        "audio_path = next(iter(uploaded.keys()))"
      ],
      "metadata": {
        "colab": {
          "base_uri": "https://localhost:8080/",
          "height": 90
        },
        "id": "_VnSiOwHw1-2",
        "outputId": "fbece311-6f54-4603-aa2e-ecdf431f4e60"
      },
      "execution_count": null,
      "outputs": [
        {
          "output_type": "stream",
          "name": "stdout",
          "text": [
            "Please upload your audio file:\n"
          ]
        },
        {
          "output_type": "display_data",
          "data": {
            "text/plain": [
              "<IPython.core.display.HTML object>"
            ],
            "text/html": [
              "\n",
              "     <input type=\"file\" id=\"files-bdd8eefe-a1dd-421b-b79e-9af49f110b7f\" name=\"files[]\" multiple disabled\n",
              "        style=\"border:none\" />\n",
              "     <output id=\"result-bdd8eefe-a1dd-421b-b79e-9af49f110b7f\">\n",
              "      Upload widget is only available when the cell has been executed in the\n",
              "      current browser session. Please rerun this cell to enable.\n",
              "      </output>\n",
              "      <script>// Copyright 2017 Google LLC\n",
              "//\n",
              "// Licensed under the Apache License, Version 2.0 (the \"License\");\n",
              "// you may not use this file except in compliance with the License.\n",
              "// You may obtain a copy of the License at\n",
              "//\n",
              "//      http://www.apache.org/licenses/LICENSE-2.0\n",
              "//\n",
              "// Unless required by applicable law or agreed to in writing, software\n",
              "// distributed under the License is distributed on an \"AS IS\" BASIS,\n",
              "// WITHOUT WARRANTIES OR CONDITIONS OF ANY KIND, either express or implied.\n",
              "// See the License for the specific language governing permissions and\n",
              "// limitations under the License.\n",
              "\n",
              "/**\n",
              " * @fileoverview Helpers for google.colab Python module.\n",
              " */\n",
              "(function(scope) {\n",
              "function span(text, styleAttributes = {}) {\n",
              "  const element = document.createElement('span');\n",
              "  element.textContent = text;\n",
              "  for (const key of Object.keys(styleAttributes)) {\n",
              "    element.style[key] = styleAttributes[key];\n",
              "  }\n",
              "  return element;\n",
              "}\n",
              "\n",
              "// Max number of bytes which will be uploaded at a time.\n",
              "const MAX_PAYLOAD_SIZE = 100 * 1024;\n",
              "\n",
              "function _uploadFiles(inputId, outputId) {\n",
              "  const steps = uploadFilesStep(inputId, outputId);\n",
              "  const outputElement = document.getElementById(outputId);\n",
              "  // Cache steps on the outputElement to make it available for the next call\n",
              "  // to uploadFilesContinue from Python.\n",
              "  outputElement.steps = steps;\n",
              "\n",
              "  return _uploadFilesContinue(outputId);\n",
              "}\n",
              "\n",
              "// This is roughly an async generator (not supported in the browser yet),\n",
              "// where there are multiple asynchronous steps and the Python side is going\n",
              "// to poll for completion of each step.\n",
              "// This uses a Promise to block the python side on completion of each step,\n",
              "// then passes the result of the previous step as the input to the next step.\n",
              "function _uploadFilesContinue(outputId) {\n",
              "  const outputElement = document.getElementById(outputId);\n",
              "  const steps = outputElement.steps;\n",
              "\n",
              "  const next = steps.next(outputElement.lastPromiseValue);\n",
              "  return Promise.resolve(next.value.promise).then((value) => {\n",
              "    // Cache the last promise value to make it available to the next\n",
              "    // step of the generator.\n",
              "    outputElement.lastPromiseValue = value;\n",
              "    return next.value.response;\n",
              "  });\n",
              "}\n",
              "\n",
              "/**\n",
              " * Generator function which is called between each async step of the upload\n",
              " * process.\n",
              " * @param {string} inputId Element ID of the input file picker element.\n",
              " * @param {string} outputId Element ID of the output display.\n",
              " * @return {!Iterable<!Object>} Iterable of next steps.\n",
              " */\n",
              "function* uploadFilesStep(inputId, outputId) {\n",
              "  const inputElement = document.getElementById(inputId);\n",
              "  inputElement.disabled = false;\n",
              "\n",
              "  const outputElement = document.getElementById(outputId);\n",
              "  outputElement.innerHTML = '';\n",
              "\n",
              "  const pickedPromise = new Promise((resolve) => {\n",
              "    inputElement.addEventListener('change', (e) => {\n",
              "      resolve(e.target.files);\n",
              "    });\n",
              "  });\n",
              "\n",
              "  const cancel = document.createElement('button');\n",
              "  inputElement.parentElement.appendChild(cancel);\n",
              "  cancel.textContent = 'Cancel upload';\n",
              "  const cancelPromise = new Promise((resolve) => {\n",
              "    cancel.onclick = () => {\n",
              "      resolve(null);\n",
              "    };\n",
              "  });\n",
              "\n",
              "  // Wait for the user to pick the files.\n",
              "  const files = yield {\n",
              "    promise: Promise.race([pickedPromise, cancelPromise]),\n",
              "    response: {\n",
              "      action: 'starting',\n",
              "    }\n",
              "  };\n",
              "\n",
              "  cancel.remove();\n",
              "\n",
              "  // Disable the input element since further picks are not allowed.\n",
              "  inputElement.disabled = true;\n",
              "\n",
              "  if (!files) {\n",
              "    return {\n",
              "      response: {\n",
              "        action: 'complete',\n",
              "      }\n",
              "    };\n",
              "  }\n",
              "\n",
              "  for (const file of files) {\n",
              "    const li = document.createElement('li');\n",
              "    li.append(span(file.name, {fontWeight: 'bold'}));\n",
              "    li.append(span(\n",
              "        `(${file.type || 'n/a'}) - ${file.size} bytes, ` +\n",
              "        `last modified: ${\n",
              "            file.lastModifiedDate ? file.lastModifiedDate.toLocaleDateString() :\n",
              "                                    'n/a'} - `));\n",
              "    const percent = span('0% done');\n",
              "    li.appendChild(percent);\n",
              "\n",
              "    outputElement.appendChild(li);\n",
              "\n",
              "    const fileDataPromise = new Promise((resolve) => {\n",
              "      const reader = new FileReader();\n",
              "      reader.onload = (e) => {\n",
              "        resolve(e.target.result);\n",
              "      };\n",
              "      reader.readAsArrayBuffer(file);\n",
              "    });\n",
              "    // Wait for the data to be ready.\n",
              "    let fileData = yield {\n",
              "      promise: fileDataPromise,\n",
              "      response: {\n",
              "        action: 'continue',\n",
              "      }\n",
              "    };\n",
              "\n",
              "    // Use a chunked sending to avoid message size limits. See b/62115660.\n",
              "    let position = 0;\n",
              "    do {\n",
              "      const length = Math.min(fileData.byteLength - position, MAX_PAYLOAD_SIZE);\n",
              "      const chunk = new Uint8Array(fileData, position, length);\n",
              "      position += length;\n",
              "\n",
              "      const base64 = btoa(String.fromCharCode.apply(null, chunk));\n",
              "      yield {\n",
              "        response: {\n",
              "          action: 'append',\n",
              "          file: file.name,\n",
              "          data: base64,\n",
              "        },\n",
              "      };\n",
              "\n",
              "      let percentDone = fileData.byteLength === 0 ?\n",
              "          100 :\n",
              "          Math.round((position / fileData.byteLength) * 100);\n",
              "      percent.textContent = `${percentDone}% done`;\n",
              "\n",
              "    } while (position < fileData.byteLength);\n",
              "  }\n",
              "\n",
              "  // All done.\n",
              "  yield {\n",
              "    response: {\n",
              "      action: 'complete',\n",
              "    }\n",
              "  };\n",
              "}\n",
              "\n",
              "scope.google = scope.google || {};\n",
              "scope.google.colab = scope.google.colab || {};\n",
              "scope.google.colab._files = {\n",
              "  _uploadFiles,\n",
              "  _uploadFilesContinue,\n",
              "};\n",
              "})(self);\n",
              "</script> "
            ]
          },
          "metadata": {}
        },
        {
          "output_type": "stream",
          "name": "stdout",
          "text": [
            "Saving ultrasound.ogg to ultrasound.ogg\n"
          ]
        }
      ]
    },
    {
      "cell_type": "code",
      "source": [
        "# 2. Set API keys\n",
        "DEEPGRAM_API_KEY = \"your key\"  # Replace with your actual key\n",
        "\n",
        "deepgram = Deepgram(DEEPGRAM_API_KEY)\n",
        "\n",
        "client = OpenAI(api_key=\"your key\")\n"
      ],
      "metadata": {
        "id": "Do_9AkyNw7Z-"
      },
      "execution_count": null,
      "outputs": []
    },
    {
      "cell_type": "code",
      "source": [
        "# 3. Transcribe with Deepgram Nova-3 Medical\n",
        "import asyncio\n",
        "import nest_asyncio\n",
        "\n",
        "# Apply nest_asyncio to allow nested event loops\n",
        "nest_asyncio.apply()\n",
        "\n",
        "async def transcribe_audio():\n",
        "    with open(audio_path, 'rb') as audio:\n",
        "        source = {'buffer': audio, 'mimetype': 'audio/wav'}\n",
        "        options = {\n",
        "            'model': 'nova-3-medical',  # Use the medical specialized model\n",
        "            'language': 'en',\n",
        "            'smart_format': True,\n",
        "            'diarize': True\n",
        "        }\n",
        "\n",
        "        response = await deepgram.transcription.prerecorded(source, options)\n",
        "        # The response is already a dictionary, so access the data directly\n",
        "        return response['results']['channels'][0]['alternatives'][0]['transcript']\n",
        "\n",
        "async def main():\n",
        "  transcript = await transcribe_audio()\n",
        "  print(\"Transcription complete\")\n",
        "  print(f\"Length of transcript: {len(transcript)} characters\")\n",
        "  return transcript\n",
        "\n",
        "transcript = asyncio.run(main()) # Execute using asyncio.run"
      ],
      "metadata": {
        "colab": {
          "base_uri": "https://localhost:8080/"
        },
        "id": "N1zR8k2ow91u",
        "outputId": "8b034e91-43b4-42cc-c3f6-1a458a1150b1"
      },
      "execution_count": null,
      "outputs": [
        {
          "output_type": "stream",
          "name": "stdout",
          "text": [
            "Transcription complete\n",
            "Length of transcript: 830 characters\n"
          ]
        }
      ]
    },
    {
      "cell_type": "code",
      "source": [
        "transcript"
      ],
      "metadata": {
        "colab": {
          "base_uri": "https://localhost:8080/",
          "height": 122
        },
        "id": "LFmcDYgg7QQv",
        "outputId": "c8617bff-76ca-4680-c00c-4ca0eff349aa"
      },
      "execution_count": null,
      "outputs": [
        {
          "output_type": "execute_result",
          "data": {
            "text/plain": [
              "\"Liver size, point nine centimeters, moderate hepatomegaly with grade two fatty change in pressure. G b distended wall, normolar. RK, 11.6 into 4.1 centimeters. Pancreas in normal manner. Paratic area obscured manner. Bladder distended. Prostate 20 cc. Calculus in calyxin measuring Right kidney. Calculus in index, callus measuring. Four and, ma'am. Note on the GTO. Spleen, 9.5. L k, 10.5, four point six. Umbilical hernia through defective measuring. 1.5 centimeters with herniation of omentum. Impression, umbilical hernia, nonobstructive, right renal calculus, Four calculus. No evidence of right inguinal hernia at present. And no EVT. No evidence of all related mass per collection and thickening in relation to visualized loop of the loops in ROV. Appendix notch separately seen. No. No EVM. Appendix notch separately seen.\""
            ],
            "application/vnd.google.colaboratory.intrinsic+json": {
              "type": "string"
            }
          },
          "metadata": {},
          "execution_count": 41
        }
      ]
    },
    {
      "cell_type": "code",
      "source": [
        "# 4. Process with GPT-4 to extract structured information\n",
        "system_prompt = \"\"\"You are a medical document specialist. Extract detailed information from this ultrasound transcription to complete a structured USG Abdomen report.\n",
        "Format your response as a structured JSON with the following fields:\n",
        "{\n",
        "  \"patient_id\": \"\",\n",
        "  \"patient_name\": \"\",\n",
        "  \"age_gender\": \"\",\n",
        "  \"liver\": \"\",\n",
        "  \"gallbladder\": \"\",\n",
        "  \"spleen\": \"\",\n",
        "  \"pancreas\": \"\",\n",
        "  \"aorta\": \"\",\n",
        "  \"right_kidney\": \"\",\n",
        "  \"left_kidney\": \"\",\n",
        "  \"bladder\": \"\",\n",
        "  \"prostate\": \"\",\n",
        "  \"rif\": \"\",\n",
        "  \"other_findings\": \"\",\n",
        "  \"impression\": \"\"\n",
        "}\n",
        "Include all measurements, observations, and medical terminology exactly as described in the transcript. If any field is not mentioned, leave it blank.\n",
        "Format the impression as a comma-separated list of key abnormal findings.\"\"\"\n",
        "\n",
        "# Use openai.ChatCompletion.create() for chat completions, but remove response_format\n",
        "response = client.chat.completions.create(\n",
        "    model=\"gpt-4\",\n",
        "    messages=[\n",
        "        {\"role\": \"system\", \"content\": system_prompt},\n",
        "        {\"role\": \"user\", \"content\": transcript}\n",
        "    ],\n",
        "    # response_format={\"type\": \"json_object\"}  # Remove this line - not supported by GPT-4 chat completions\n",
        ")\n",
        "\n",
        "# Access the content of the message and parse as JSON\n",
        "medical_data = json.loads(response.choices[0].message.content)\n",
        "\n",
        "print(\"Medical information extracted successfully\")"
      ],
      "metadata": {
        "colab": {
          "base_uri": "https://localhost:8080/"
        },
        "id": "NTLJMG8Y39at",
        "outputId": "14bd6f27-bba9-41f0-c9b5-b11ea5235712"
      },
      "execution_count": null,
      "outputs": [
        {
          "output_type": "stream",
          "name": "stdout",
          "text": [
            "Medical information extracted successfully\n"
          ]
        }
      ]
    },
    {
      "cell_type": "code",
      "source": [
        "# 5. Generate USG Abdomen report using the template\n",
        "doc = Document()\n",
        "\n",
        "# Add title\n",
        "doc.add_heading('USG ABDOMEN', 0)\n",
        "\n",
        "# Add current date in the required format (DD-MM-YYYY)\n",
        "current_date = datetime.now().strftime(\"%d-%m-%Y\")\n",
        "date_paragraph = doc.add_paragraph()\n",
        "date_paragraph.add_run(f\"Report Date: {current_date}\").bold = True\n",
        "date_paragraph.alignment = 2  # Right alignment\n",
        "\n",
        "# Add patient information section\n",
        "patient_info = doc.add_paragraph()\n",
        "patient_info.add_run(f\"Patient ID: {medical_data.get('patient_id', '_________')}    \")\n",
        "patient_info.add_run(f\"Name: {medical_data.get('patient_name', '_________')}    \")\n",
        "patient_info.add_run(f\"Age/Gender: {medical_data.get('age_gender', '_____')}\")\n",
        "\n",
        "# Add FINDINGS section\n",
        "doc.add_heading('FINDINGS:', level=1)\n",
        "\n",
        "# Add each organ section with proper formatting\n",
        "for organ_name, field_name in [\n",
        "    ('Liver:', 'liver'),\n",
        "    ('Gallbladder:', 'gallbladder'),\n",
        "    ('Spleen:', 'spleen'),\n",
        "    ('Pancreas:', 'pancreas'),\n",
        "    ('Aorta:', 'aorta')\n",
        "]:\n",
        "    p = doc.add_paragraph()\n",
        "    p.add_run(organ_name).bold = True\n",
        "    p.add_run(f\" {medical_data.get(field_name, '')}\")\n",
        "\n",
        "# Add Kidneys with indented right and left\n",
        "p = doc.add_paragraph()\n",
        "p.add_run('Kidneys:').bold = True\n",
        "doc.add_paragraph(f\"    Right Kidney: {medical_data.get('right_kidney', '')}\")\n",
        "doc.add_paragraph(f\"    Left Kidney: {medical_data.get('left_kidney', '')}\")\n",
        "\n",
        "# Add remaining sections\n",
        "for organ_name, field_name in [\n",
        "    ('Bladder:', 'bladder'),\n",
        "    ('Prostate:', 'prostate'),\n",
        "    ('Rif:', 'rif')\n",
        "]:\n",
        "    p = doc.add_paragraph()\n",
        "    p.add_run(organ_name).bold = True\n",
        "    p.add_run(f\" {medical_data.get(field_name, '')}\")\n",
        "\n",
        "# Add other findings if available\n",
        "if medical_data.get('other_findings'):\n",
        "    p = doc.add_paragraph()\n",
        "    p.add_run(medical_data.get('other_findings', ''))\n",
        "\n",
        "# Add IMPRESSION section\n",
        "doc.add_heading('IMPRESSION:', level=1)\n",
        "impression = doc.add_paragraph(medical_data.get('impression', ''))\n",
        "\n",
        "# Save the completed report\n",
        "output_filename = f\"USG_ABDOMEN_Report_{current_date.replace('-','_')}.docx\"\n",
        "doc.save(output_filename)\n",
        "print(f\"Report generated successfully as: {output_filename}\")\n",
        "\n",
        "# Download the generated file\n",
        "files.download(output_filename)"
      ],
      "metadata": {
        "colab": {
          "base_uri": "https://localhost:8080/",
          "height": 34
        },
        "id": "ekJIAx4z6_Cf",
        "outputId": "cb59961d-6da8-4179-ee9c-649a3458f434"
      },
      "execution_count": null,
      "outputs": [
        {
          "output_type": "stream",
          "name": "stdout",
          "text": [
            "Report generated successfully as: USG_ABDOMEN_Report_22_03_2025.docx\n"
          ]
        },
        {
          "output_type": "display_data",
          "data": {
            "text/plain": [
              "<IPython.core.display.Javascript object>"
            ],
            "application/javascript": [
              "\n",
              "    async function download(id, filename, size) {\n",
              "      if (!google.colab.kernel.accessAllowed) {\n",
              "        return;\n",
              "      }\n",
              "      const div = document.createElement('div');\n",
              "      const label = document.createElement('label');\n",
              "      label.textContent = `Downloading \"${filename}\": `;\n",
              "      div.appendChild(label);\n",
              "      const progress = document.createElement('progress');\n",
              "      progress.max = size;\n",
              "      div.appendChild(progress);\n",
              "      document.body.appendChild(div);\n",
              "\n",
              "      const buffers = [];\n",
              "      let downloaded = 0;\n",
              "\n",
              "      const channel = await google.colab.kernel.comms.open(id);\n",
              "      // Send a message to notify the kernel that we're ready.\n",
              "      channel.send({})\n",
              "\n",
              "      for await (const message of channel.messages) {\n",
              "        // Send a message to notify the kernel that we're ready.\n",
              "        channel.send({})\n",
              "        if (message.buffers) {\n",
              "          for (const buffer of message.buffers) {\n",
              "            buffers.push(buffer);\n",
              "            downloaded += buffer.byteLength;\n",
              "            progress.value = downloaded;\n",
              "          }\n",
              "        }\n",
              "      }\n",
              "      const blob = new Blob(buffers, {type: 'application/binary'});\n",
              "      const a = document.createElement('a');\n",
              "      a.href = window.URL.createObjectURL(blob);\n",
              "      a.download = filename;\n",
              "      div.appendChild(a);\n",
              "      a.click();\n",
              "      div.remove();\n",
              "    }\n",
              "  "
            ]
          },
          "metadata": {}
        },
        {
          "output_type": "display_data",
          "data": {
            "text/plain": [
              "<IPython.core.display.Javascript object>"
            ],
            "application/javascript": [
              "download(\"download_400f60c0-bed8-4e0d-8c65-e2c8aa181159\", \"USG_ABDOMEN_Report_22_03_2025.docx\", 37218)"
            ]
          },
          "metadata": {}
        }
      ]
    }
  ]
}